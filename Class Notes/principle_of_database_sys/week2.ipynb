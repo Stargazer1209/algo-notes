{
 "cells": [
  {
   "cell_type": "markdown",
   "metadata": {},
   "source": [
    "数据库市场份额占比：Oracle、Microsoft、IBM、SAP和SAS。 \n",
    "\n",
    "其中，Oracle以其丰富的产品线和技术优势获得了34.8%的市场份额，成为数据库市场的领导者。 \n",
    "\n",
    "其次是Microsoft，其市场份额为19.1%。 \n",
    "\n",
    "IBM以其资深的技术实力和独特的产品策略位列第三，市场份额为14.8%。\n",
    "\n",
    "generally speaking, 微软在功能性上的问题还真是从不妥协。\n",
    "\n",
    "DDL：create, alter, dmp\n",
    "\n",
    "DML: insert, delete update\n",
    "\n",
    "DCL: grant, revoke\n",
    "\n",
    "DQL: select\n",
    "\n",
    "object: table view index user role  trgger  procedure"
   ]
  }
 ],
 "metadata": {
  "language_info": {
   "name": "python"
  }
 },
 "nbformat": 4,
 "nbformat_minor": 2
}
